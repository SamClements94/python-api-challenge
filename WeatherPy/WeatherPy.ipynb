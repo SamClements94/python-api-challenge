{
 "cells": [
  {
   "cell_type": "markdown",
   "metadata": {},
   "source": [
    "# WeatherPy\n",
    "----\n",
    "\n",
    "#### Note\n",
    "* Instructions have been included for each segment. You do not have to follow them exactly, but they are included to help you think through the steps."
   ]
  },
  {
   "cell_type": "code",
   "execution_count": 169,
   "metadata": {
    "scrolled": true
   },
   "outputs": [],
   "source": [
    "# Dependencies and Setup\n",
    "import matplotlib.pyplot as plt\n",
    "import pandas as pd\n",
    "import numpy as np\n",
    "import requests\n",
    "import time\n",
    "from scipy import stats\n",
    "from pprint import pprint\n",
    "\n",
    "# Import API key\n",
    "from api_keys import weather_api_key\n",
    "\n",
    "# Incorporated citipy to determine city based on latitude and longitude\n",
    "from citipy import citipy\n",
    "\n",
    "# Output File (CSV)\n",
    "output_data_file = \"cities.csv\"\n",
    "\n",
    "# Range of latitudes and longitudes\n",
    "lat_range = (-90, 90)\n",
    "lng_range = (-180, 180)"
   ]
  },
  {
   "cell_type": "markdown",
   "metadata": {},
   "source": [
    "## Generate Cities List"
   ]
  },
  {
   "cell_type": "code",
   "execution_count": 64,
   "metadata": {},
   "outputs": [
    {
     "data": {
      "text/plain": [
       "633"
      ]
     },
     "execution_count": 64,
     "metadata": {},
     "output_type": "execute_result"
    }
   ],
   "source": [
    "# List for holding lat_lngs and cities\n",
    "lat_lngs = []\n",
    "cities = []\n",
    "\n",
    "# Create a set of random lat and lng combinations\n",
    "lats = np.random.uniform(lat_range[0], lat_range[1], size=1500)\n",
    "lngs = np.random.uniform(lng_range[0], lng_range[1], size=1500)\n",
    "lat_lngs = zip(lats, lngs)\n",
    "\n",
    "# Identify nearest city for each lat, lng combination\n",
    "for lat_lng in lat_lngs:\n",
    "    city = citipy.nearest_city(lat_lng[0], lat_lng[1]).city_name\n",
    "    \n",
    "    # If the city is unique, then add it to a our cities list\n",
    "    if city not in cities:\n",
    "        cities.append(city)\n",
    "\n",
    "# Print the city count to confirm sufficient count\n",
    "len(cities)"
   ]
  },
  {
   "cell_type": "markdown",
   "metadata": {},
   "source": [
    "### Perform API Calls\n",
    "* Perform a weather check on each city using a series of successive API calls.\n",
    "* Include a print log of each city as it'sbeing processed (with the city number and city name).\n"
   ]
  },
  {
   "cell_type": "code",
   "execution_count": 234,
   "metadata": {
    "scrolled": true
   },
   "outputs": [
    {
     "name": "stdout",
     "output_type": "stream",
     "text": [
      "1: Albany\n",
      "2: Mataura\n",
      "3: Chokurdakh\n",
      "4: Khatanga\n",
      "5: Ambanja\n",
      "6: Onega\n",
      "Missing name data\n",
      "8: Nome\n",
      "9: Te Anau\n",
      "10: Shenjiamen\n",
      "11: Saldanha\n",
      "Missing name data\n",
      "13: Torbay\n",
      "14: Tasiilaq\n",
      "15: Luena\n",
      "16: Ternate\n",
      "17: Sovetskiy\n",
      "18: Busselton\n",
      "19: Jalu\n",
      "20: Ponta do Sol\n",
      "21: George Town\n",
      "22: Thinadhoo\n",
      "23: Rikitea\n",
      "24: Saskylakh\n",
      "25: Bathsheba\n",
      "26: Vao\n",
      "27: Ushuaia\n",
      "28: Bredasdorp\n",
      "Missing name data\n",
      "30: Plyussa\n",
      "31: Bluff\n",
      "32: Nanortalik\n",
      "33: Voyvozh\n",
      "34: Chongwe\n",
      "35: Arraial do Cabo\n",
      "36: Galesong\n",
      "Missing name data\n",
      "38: Ngunguru\n",
      "39: Bambous Virieux\n",
      "40: Togur\n",
      "41: Cape Town\n",
      "42: Qaanaaq\n",
      "43: Hobart\n",
      "44: Iqaluit\n",
      "Missing name data\n",
      "46: Vila\n",
      "47: Nouadhibou\n",
      "48: Genhe\n",
      "49: Tuktoyaktuk\n",
      "50: Mount Gambier\n",
      "51: Geraldton\n",
      "52: Jamestown\n",
      "53: Beringovskiy\n",
      "54: Cherskiy\n",
      "55: Hilo\n",
      "56: Severo-Kuril'sk\n",
      "57: Ürümqi\n",
      "58: Vaini\n",
      "Missing name data\n",
      "60: Butaritari\n",
      "61: Esmeraldas\n",
      "62: Dikson\n",
      "63: Cockburn Town\n",
      "64: Changji\n",
      "65: New Norfolk\n",
      "66: Narsaq\n",
      "67: Hermanus\n",
      "68: Punta Arenas\n",
      "69: Emba\n",
      "70: Qaqortoq\n",
      "71: Saint-François\n",
      "72: Port Alfred\n",
      "73: Labuhan\n",
      "74: Nikolskoye\n",
      "Missing name data\n",
      "Missing name data\n",
      "77: Lorengau\n",
      "78: Turangi\n",
      "Missing name data\n",
      "80: Atuona\n",
      "81: Ilulissat\n",
      "82: Changqing\n",
      "83: Bengkulu\n",
      "84: Henties Bay\n",
      "85: Souillac\n",
      "86: Vila Velha\n",
      "87: Bayjī\n",
      "88: Qui Nhon\n",
      "89: Praia da Vitória\n",
      "90: Kitaibaraki\n",
      "91: Jambi City\n",
      "92: Saint-Philippe\n",
      "93: Saint-Augustin\n",
      "94: Caravelas\n",
      "95: Mercedes\n",
      "96: Saint Anthony\n",
      "97: Soe\n",
      "98: Christchurch\n",
      "99: Camocim\n",
      "100: Yangambi\n",
      "Missing name data\n",
      "102: Kaeo\n",
      "103: Puerto Ayora\n",
      "Missing name data\n",
      "105: Mar del Plata\n",
      "106: Kholm\n",
      "107: Olinda\n",
      "108: East London\n",
      "109: Kayes\n",
      "110: Tieling\n",
      "111: Trelew\n",
      "112: Celestún\n",
      "113: San Cristobal\n",
      "114: Provideniya\n",
      "115: Bărăști\n",
      "116: Amazar\n",
      "117: Klaksvík\n",
      "118: Villa del Rosario\n",
      "119: Seoul\n",
      "120: Alofi\n",
      "121: Castro\n",
      "122: San Fernando del Valle de Catamarca\n",
      "123: Pisco\n",
      "124: Upernavik\n",
      "125: Abay\n",
      "126: Sur\n",
      "Missing name data\n",
      "Missing name data\n",
      "129: Sergeevka\n",
      "Missing name data\n",
      "131: Fare\n",
      "132: Necochea\n",
      "133: Faya\n",
      "Missing name data\n",
      "135: Arlit\n",
      "136: Shelburne\n",
      "Missing name data\n",
      "138: Yoichi\n",
      "139: Ahipara\n",
      "140: Iracoubo\n",
      "141: Carnarvon\n",
      "142: Bontang\n",
      "143: Kletskaya\n",
      "Missing name data\n",
      "145: Cristalina\n",
      "146: Byron Bay\n",
      "147: Yellowknife\n",
      "148: Coquimbo\n",
      "149: Dingle\n",
      "150: Saint Paul Harbor\n",
      "151: Kholodnyy\n",
      "152: Kalach-na-Donu\n",
      "153: Inhambane\n",
      "154: Mount Isa\n",
      "155: Rocha\n",
      "156: Barrow\n",
      "157: Meulaboh\n",
      "158: Chicama\n",
      "159: Alberton\n",
      "Missing name data\n",
      "161: Hanzhong\n",
      "162: Chepareria\n",
      "163: Kerrobert\n",
      "164: Hithadhoo\n",
      "165: Departamento de Maldonado\n",
      "166: Half Moon Bay\n",
      "167: Grand-Lahou\n",
      "168: Katsuura\n",
      "169: Port Hedland\n",
      "170: Alyangula\n",
      "171: Thompson\n",
      "172: Kutum\n",
      "173: Fortuna\n",
      "174: Karratha\n",
      "175: Kamariótissa\n",
      "176: Port Elizabeth\n",
      "177: Longyearbyen\n",
      "178: Kapaa\n",
      "179: Roseburg\n",
      "180: Kaitangata\n",
      "181: Comodoro Rivadavia\n",
      "182: Atambua\n",
      "183: Port Macquarie\n",
      "184: Coyhaique\n",
      "185: Mehamn\n",
      "186: Houma\n",
      "187: Lompoc\n",
      "188: Deputatsky\n",
      "189: Pontes e Lacerda\n",
      "190: Nikki\n",
      "191: Riberalta\n",
      "192: Flinders\n",
      "193: Malakal\n",
      "194: Evensk\n",
      "Missing name data\n",
      "196: Broken Hill\n",
      "197: Lagoa\n",
      "198: Ukiah\n",
      "199: Wanning\n",
      "Missing name data\n",
      "201: Kropotkin\n",
      "202: Oktyabr'skoye\n",
      "203: Tuatapere\n",
      "204: Ostrovnoy\n",
      "205: Tautira\n",
      "206: May Pen\n",
      "207: Chunhuhub\n",
      "208: Avarua\n",
      "209: Chui\n",
      "210: Arman'\n",
      "211: Ribeira Grande\n",
      "Missing name data\n",
      "213: Hong Kong\n",
      "Missing name data\n",
      "Missing name data\n",
      "216: Norman Wells\n",
      "217: Grand-Santi\n",
      "218: Canutama\n",
      "219: Codrington\n",
      "220: Papenburg\n",
      "Missing name data\n",
      "222: Tomatlán\n",
      "223: Kruisfontein\n",
      "Missing name data\n",
      "225: Rundu\n",
      "226: Sioux Lookout\n",
      "227: Birjand\n",
      "228: Yar-Sale\n",
      "229: Talnakh\n",
      "230: Biak\n",
      "231: Jiuquan\n",
      "232: Haines Junction\n",
      "233: Freeport\n",
      "234: Hamilton\n",
      "235: St. George's\n",
      "236: Shibetsu\n",
      "237: Bereda\n",
      "238: Bethel\n",
      "239: Nhulunbuy\n",
      "Missing name data\n",
      "241: Narasannapeta\n",
      "242: Maningrida\n",
      "243: Los Llanos de Aridane\n",
      "244: Ambilobe\n",
      "245: Vuktyl\n",
      "246: Tromsø\n",
      "247: Safi\n",
      "248: Marau\n",
      "249: Baruun-Urt\n",
      "250: Saint-Pierre\n",
      "251: Ust-Nera\n",
      "Missing name data\n",
      "253: Luorong\n",
      "254: Dhidhdhoo\n",
      "255: Nuuk\n",
      "256: Kuruman\n",
      "257: Ilhabela\n",
      "258: Ughelli\n",
      "259: High Level\n",
      "260: Honiara\n",
      "261: Shimoda\n",
      "262: Araouane\n",
      "263: Forsytheganj\n",
      "264: Jacareacanga\n",
      "Missing name data\n",
      "266: Giohar\n",
      "267: Tambilil\n",
      "268: Port Blair\n",
      "269: Pāveh\n",
      "270: Kavieng\n",
      "271: Pierre\n",
      "272: Tombouctou\n",
      "273: Port Lincoln\n",
      "274: Samarai\n",
      "275: Pevek\n",
      "276: Hambantota\n",
      "277: Legionowo\n",
      "278: Gevrai\n",
      "279: Gijang\n",
      "280: Makakilo City\n",
      "281: Zhigansk\n",
      "282: Sindor\n",
      "283: Richards Bay\n",
      "284: Moniquirá\n",
      "285: Rafrāf\n",
      "286: Bathurst\n",
      "287: Pelym\n",
      "288: Esperance\n",
      "289: Bella Vista\n",
      "290: Mozarlândia\n",
      "291: Alcañiz\n",
      "292: Severnyy\n",
      "293: Umluj\n",
      "294: Zalţan\n",
      "295: Jvari\n",
      "296: Phetchabun\n",
      "297: Koygorodok\n",
      "298: Puerto del Rosario\n",
      "299: Kumul\n",
      "300: Nara\n",
      "301: Mhlume\n",
      "302: Neiafu\n",
      "303: Hasaki\n",
      "304: Zhalantun\n",
      "305: Mahébourg\n",
      "306: San Jose\n",
      "307: Kon Tum\n",
      "Missing name data\n",
      "309: Garoowe\n",
      "310: Kavaratti\n",
      "311: Yumen\n",
      "312: Koumac\n",
      "313: Bariloche\n",
      "314: Phan Thiet\n",
      "315: Vestmannaeyjar\n",
      "316: Brockville\n",
      "317: Uribia\n",
      "318: Mongo\n",
      "319: Riyadh\n",
      "320: Mayo\n",
      "321: Murree\n",
      "322: Buraidah\n",
      "323: Marolambo\n",
      "324: Porto-Novo\n",
      "325: Kayerkan\n",
      "Missing name data\n",
      "327: Faanui\n",
      "328: Isla Mujeres\n",
      "329: Khorramshahr\n",
      "330: Weiser\n",
      "331: Marsh Harbour\n",
      "332: Leningradskiy\n",
      "333: Nāgaur\n",
      "334: Luanda\n",
      "Missing name data\n",
      "336: Kokopo\n",
      "337: Canindé\n",
      "338: Uulu\n",
      "339: Bani Walid\n",
      "Missing name data\n",
      "341: Varhaug\n",
      "342: Marzuq\n",
      "343: Yinzhu\n",
      "344: Rovaniemi\n",
      "345: Raja\n",
      "346: Eureka\n",
      "Missing name data\n",
      "Missing name data\n",
      "349: Baringo\n",
      "350: Río Cuarto\n",
      "351: Orán\n",
      "352: Acarí\n",
      "353: Temecula\n",
      "Missing name data\n",
      "355: Salalah\n",
      "Missing name data\n",
      "357: Yarmouth\n",
      "358: Sanguéya\n",
      "359: Cap-aux-Meules\n",
      "360: Fredericton\n",
      "361: Arona\n",
      "362: Kudahuvadhoo\n",
      "363: Hudson Bay\n",
      "364: Lebu\n",
      "365: Rawson\n",
      "366: Makar'yev\n",
      "367: Bilma\n",
      "368: Laguna\n",
      "369: Hualmay\n",
      "370: Ampanihy\n",
      "Missing name data\n",
      "Missing name data\n",
      "373: Scarborough\n",
      "374: Tiksi\n",
      "375: Chengde\n",
      "376: Lata\n",
      "377: Zhezkazgan\n",
      "378: Camopi\n",
      "379: Mocuba\n",
      "380: Olafsvik\n",
      "381: Berlevåg\n",
      "382: Opuwo\n",
      "383: Belen\n",
      "384: Elban\n",
      "385: San Patricio\n",
      "386: General Roca\n",
      "387: Merke\n",
      "388: Sehithwa\n",
      "389: Sept-Îles\n",
      "390: Tierralta\n",
      "391: Preston\n",
      "392: Bad Kissingen\n",
      "393: Kirakira\n",
      "394: Quepos\n",
      "395: Anadyr\n",
      "396: Macará\n",
      "397: Bemidji\n",
      "398: Kiryat Gat\n",
      "399: Patrocínio\n",
      "400: Ancud\n",
      "401: Belo Jardim\n",
      "402: Menongue\n",
      "403: Hofn\n",
      "404: Umba\n",
      "405: Westport\n",
      "406: Kuytun\n",
      "407: Orange\n",
      "408: Tancheng\n",
      "409: Māngrol\n",
      "410: Polunochnoye\n",
      "Missing name data\n",
      "412: Naviraí\n",
      "413: Chapais\n",
      "414: Airai\n",
      "Missing name data\n",
      "416: Paamiut\n",
      "417: Avera\n",
      "418: Nizwá\n",
      "419: Berbera\n",
      "420: Octeville\n",
      "421: Tikrit\n",
      "422: Nānākuli\n",
      "423: Rudnichnyy\n",
      "424: Adela\n",
      "425: Dongsheng\n",
      "426: Visby\n",
      "427: Yangi Marg`ilon\n",
      "428: Teya\n",
      "429: Buala\n",
      "430: Trairi\n",
      "431: Touho\n",
      "432: Esso\n",
      "433: Kuril'sk\n",
      "434: Bud\n",
      "435: Lakes Entrance\n",
      "436: Bridlington\n",
      "437: Hihyā\n",
      "438: North Bend\n",
      "439: Itarema\n",
      "440: Vanimo\n",
      "Missing name data\n",
      "442: Kalmunai\n",
      "443: Ginda\n",
      "444: Naze\n",
      "445: Dauriya\n",
      "446: Constitución\n",
      "447: Aklavik\n",
      "448: Beremend\n",
      "449: Cabo San Lucas\n",
      "450: Minudasht\n",
      "Missing name data\n",
      "452: Bhadrāchalam\n",
      "453: Novorzhev\n",
      "454: Mwinilunga\n",
      "455: Marrakesh\n",
      "456: Afyonkarahisar\n",
      "457: Talara\n",
      "458: Zemio\n",
      "459: Guerrero Negro\n",
      "460: Kumluca\n",
      "461: Adrar\n",
      "462: Sørland\n",
      "Missing name data\n",
      "464: Plérin\n",
      "465: Broome\n",
      "466: Bac Lieu\n",
      "467: Linxia Chengguanzhen\n",
      "468: Marabu\n",
      "469: Zhangaözen\n",
      "Missing name data\n",
      "471: Palora\n",
      "472: Miandrivazo\n",
      "473: Kenai\n",
      "474: Shingū\n",
      "475: Francisco Beltrão\n",
      "476: Tura\n",
      "477: Nabire\n",
      "478: Pangnirtung\n",
      "479: Zyryanka\n",
      "Missing name data\n",
      "481: Poltavka\n",
      "482: Wanaka\n",
      "483: Dawson Creek\n",
      "484: Azul\n",
      "485: Nizhniy Baskunchak\n",
      "486: Sibut\n",
      "487: Alice Springs\n",
      "488: Bhīm Tāl\n",
      "489: Avigliano\n",
      "Missing name data\n",
      "491: Juradó\n",
      "Missing name data\n",
      "493: Lere\n",
      "494: Venice\n",
      "495: Doha\n",
      "496: Khorinsk\n",
      "497: Florø\n",
      "498: Jiazi\n",
      "499: Belyy Yar\n",
      "500: San Quintín\n",
      "501: Batticaloa\n",
      "502: Dunedin\n",
      "503: Nizhnyaya Tavda\n",
      "504: Dustlik\n",
      "Missing name data\n",
      "506: Yerbogachën\n",
      "Missing name data\n",
      "508: Saint-Joseph\n",
      "Missing name data\n",
      "510: Darnah\n",
      "511: Lavrentiya\n",
      "512: Tabas\n",
      "513: Amahai\n",
      "514: Khani\n",
      "515: Tiznit Province\n",
      "Missing name data\n",
      "517: Marathon\n",
      "518: Pizarro\n",
      "Missing name data\n",
      "520: Pacific Grove\n",
      "521: Zaragoza\n",
      "522: Vardø\n",
      "523: Gouré\n",
      "524: Abadan\n",
      "525: Hokitika\n",
      "526: Manadhoo\n",
      "527: Alanya\n",
      "Missing name data\n",
      "Missing name data\n",
      "530: Abhā\n",
      "531: Kita\n",
      "532: Morón\n",
      "533: Salinópolis\n",
      "534: Archidona\n",
      "535: São João da Barra\n",
      "536: Aksarka\n",
      "537: Erzincan Province\n",
      "538: Leshukonskoye\n",
      "539: Abalak\n",
      "540: Vysokogornyy\n",
      "541: Ayan\n",
      "542: Touros\n",
      "543: Grindavik\n",
      "544: Carballo\n",
      "545: Palmer\n",
      "546: Betafo\n",
      "Missing name data\n",
      "Missing name data\n",
      "549: Tiarei\n",
      "550: Bambanglipuro\n",
      "551: Port Moresby\n",
      "552: Montrose\n",
      "553: Katobu\n",
      "554: Verkhneyarkeyevo\n",
      "555: Sémbé\n",
      "556: Bilibino\n",
      "557: Malandag\n",
      "Missing name data\n",
      "559: Taunsa\n",
      "560: Laas\n",
      "561: Asmara\n",
      "562: Vestmanna\n",
      "563: Cayenne\n",
      "564: Hervey Bay\n",
      "565: Kotapārh\n",
      "566: Madang\n"
     ]
    },
    {
     "name": "stdout",
     "output_type": "stream",
     "text": [
      "567: Semey\n",
      "568: Superior\n",
      "569: Quelimane\n",
      "570: Vangaindrano\n",
      "571: Sitka\n",
      "572: Cidreira\n",
      "573: Pauini\n",
      "574: Viedma\n",
      "575: Fukuechō\n",
      "576: Mahibadhoo\n",
      "577: Puerto Escondido\n",
      "578: Goderich\n",
      "579: Vitim\n",
      "Missing name data\n",
      "581: Skjervøy\n",
      "582: Longyan\n",
      "583: Kuah\n",
      "584: Andenes\n",
      "585: Anjozorobe\n",
      "586: Sechura\n",
      "587: San Lorenzo\n",
      "588: Chinchani\n",
      "589: Bagdarin\n",
      "590: Rapid Valley\n",
      "591: Mahon\n",
      "592: Makkah al Mukarramah\n",
      "593: Businga\n",
      "594: Concepción del Uruguay\n",
      "595: Havelock\n",
      "596: Sarana\n",
      "597: Luancheng\n",
      "598: Al Bardīyah\n",
      "599: Baharly\n",
      "600: Saint-Louis\n",
      "601: Sendafa\n",
      "602: Porto Belo\n",
      "603: Oranjemund\n",
      "604: Darhan\n",
      "605: Xining\n",
      "606: Caniço\n",
      "607: Mawlaik\n",
      "608: Mazagão\n",
      "609: Pozo Colorado\n",
      "610: Guapí\n",
      "Missing name data\n",
      "612: Sola\n",
      "613: Troitsko-Pechorsk\n",
      "614: Ponferrada\n",
      "615: Catabola\n",
      "616: Soyo\n",
      "617: Marsaxlokk\n",
      "618: Hobyo\n",
      "619: Maragogi\n",
      "620: Cabedelo\n",
      "621: Murray Bridge\n",
      "622: Yong’an\n",
      "623: Osmaniye\n",
      "624: Port Hardy\n",
      "625: Mandalgovi\n",
      "626: Policoro\n",
      "627: Cape Coast\n",
      "628: Ylivieska\n",
      "629: Natchitoches\n",
      "630: Kozhva\n",
      "631: Kalāleh\n",
      "632: Yulara\n",
      "633: Glossa\n"
     ]
    }
   ],
   "source": [
    "url = \"http://api.openweathermap.org/data/2.5/weather?\"\n",
    "number= 0\n",
    "\n",
    "name=[]\n",
    "lat=[]\n",
    "lon=[]\n",
    "temp=[]\n",
    "max_temp=[]\n",
    "wind_spd=[]\n",
    "clouds=[]\n",
    "humidity=[]\n",
    "\n",
    "for city in cities:\n",
    "    query_url = url + \"appid=\" + weather_api_key + \"&units=imperial&q=\" + city\n",
    "\n",
    "    weather_response = requests.get(query_url)\n",
    "    weather_json = weather_response.json()\n",
    "    \n",
    "    number=number+1\n",
    "\n",
    "    try:\n",
    "        print(f\"{number}: {weather_json['name']}\")\n",
    "        name.append(weather_json['name'])\n",
    "        lat.append(weather_json['coord']['lat'])\n",
    "        lon.append(weather_json['coord']['lon'])\n",
    "        temp.append(weather_json['main']['temp'])\n",
    "        max_temp.append(weather_json['main']['temp_max'])\n",
    "        wind_spd.append(weather_json['wind']['speed'])\n",
    "        clouds.append(weather_json['clouds']['all'])\n",
    "        humidity.append(weather_json['main']['humidity'])\n",
    "    except:\n",
    "        print(\"Missing name data\")\n",
    "        name.append(\"Missing data\")\n",
    "        lat.append(\"Missing data\")\n",
    "        lon.append(\"Missing data\")\n",
    "        temp.append(\"Missing data\")\n",
    "        max_temp.append(\"Missing data\")\n",
    "        wind_spd.append(\"Missing data\")\n",
    "        clouds.append(\"Missing data\")\n",
    "        humidity.append(\"Missing data\")"
   ]
  },
  {
   "cell_type": "code",
   "execution_count": 235,
   "metadata": {},
   "outputs": [
    {
     "name": "stdout",
     "output_type": "stream",
     "text": [
      "{'base': 'stations',\n",
      " 'clouds': {'all': 0},\n",
      " 'cod': 200,\n",
      " 'coord': {'lat': 35.4717, 'lon': 23.7763},\n",
      " 'dt': 1627973144,\n",
      " 'id': 259718,\n",
      " 'main': {'feels_like': 92.32,\n",
      "          'grnd_level': 993,\n",
      "          'humidity': 25,\n",
      "          'pressure': 1011,\n",
      "          'sea_level': 1011,\n",
      "          'temp': 94.66,\n",
      "          'temp_max': 94.66,\n",
      "          'temp_min': 94.66},\n",
      " 'name': 'Glossa',\n",
      " 'sys': {'country': 'GR',\n",
      "         'id': 6643,\n",
      "         'sunrise': 1627961689,\n",
      "         'sunset': 1628011636,\n",
      "         'type': 1},\n",
      " 'timezone': 10800,\n",
      " 'visibility': 10000,\n",
      " 'weather': [{'description': 'clear sky',\n",
      "              'icon': '01d',\n",
      "              'id': 800,\n",
      "              'main': 'Clear'}],\n",
      " 'wind': {'deg': 45, 'gust': 23.51, 'speed': 9.78}}\n"
     ]
    }
   ],
   "source": [
    "pprint(weather_json)"
   ]
  },
  {
   "cell_type": "markdown",
   "metadata": {},
   "source": [
    "  ### Convert Raw Data to DataFrame\n",
    "* Export the city data into a .csv.\n",
    "* Display the DataFrame"
   ]
  },
  {
   "cell_type": "code",
   "execution_count": 236,
   "metadata": {},
   "outputs": [
    {
     "data": {
      "text/html": [
       "<div>\n",
       "<style scoped>\n",
       "    .dataframe tbody tr th:only-of-type {\n",
       "        vertical-align: middle;\n",
       "    }\n",
       "\n",
       "    .dataframe tbody tr th {\n",
       "        vertical-align: top;\n",
       "    }\n",
       "\n",
       "    .dataframe thead th {\n",
       "        text-align: right;\n",
       "    }\n",
       "</style>\n",
       "<table border=\"1\" class=\"dataframe\">\n",
       "  <thead>\n",
       "    <tr style=\"text-align: right;\">\n",
       "      <th></th>\n",
       "      <th>city</th>\n",
       "      <th>latitude</th>\n",
       "      <th>longitude</th>\n",
       "      <th>temperature</th>\n",
       "      <th>max temperature</th>\n",
       "      <th>wind speed</th>\n",
       "      <th>cloudiness</th>\n",
       "      <th>humidity</th>\n",
       "    </tr>\n",
       "  </thead>\n",
       "  <tbody>\n",
       "    <tr>\n",
       "      <th>0</th>\n",
       "      <td>Albany</td>\n",
       "      <td>42.6001</td>\n",
       "      <td>-73.9662</td>\n",
       "      <td>52.56</td>\n",
       "      <td>55.63</td>\n",
       "      <td>3.4</td>\n",
       "      <td>0</td>\n",
       "      <td>89</td>\n",
       "    </tr>\n",
       "    <tr>\n",
       "      <th>1</th>\n",
       "      <td>Mataura</td>\n",
       "      <td>-46.1927</td>\n",
       "      <td>168.864</td>\n",
       "      <td>37.89</td>\n",
       "      <td>37.89</td>\n",
       "      <td>1.28</td>\n",
       "      <td>7</td>\n",
       "      <td>95</td>\n",
       "    </tr>\n",
       "    <tr>\n",
       "      <th>2</th>\n",
       "      <td>Chokurdakh</td>\n",
       "      <td>70.6333</td>\n",
       "      <td>147.917</td>\n",
       "      <td>57.24</td>\n",
       "      <td>57.24</td>\n",
       "      <td>10.29</td>\n",
       "      <td>47</td>\n",
       "      <td>35</td>\n",
       "    </tr>\n",
       "    <tr>\n",
       "      <th>3</th>\n",
       "      <td>Khatanga</td>\n",
       "      <td>71.9667</td>\n",
       "      <td>102.5</td>\n",
       "      <td>81.36</td>\n",
       "      <td>81.36</td>\n",
       "      <td>13.58</td>\n",
       "      <td>100</td>\n",
       "      <td>36</td>\n",
       "    </tr>\n",
       "    <tr>\n",
       "      <th>4</th>\n",
       "      <td>Ambanja</td>\n",
       "      <td>-13.6833</td>\n",
       "      <td>48.45</td>\n",
       "      <td>78.73</td>\n",
       "      <td>78.73</td>\n",
       "      <td>3.27</td>\n",
       "      <td>2</td>\n",
       "      <td>59</td>\n",
       "    </tr>\n",
       "  </tbody>\n",
       "</table>\n",
       "</div>"
      ],
      "text/plain": [
       "         city latitude longitude temperature max temperature wind speed  \\\n",
       "0      Albany  42.6001  -73.9662       52.56           55.63        3.4   \n",
       "1     Mataura -46.1927   168.864       37.89           37.89       1.28   \n",
       "2  Chokurdakh  70.6333   147.917       57.24           57.24      10.29   \n",
       "3    Khatanga  71.9667     102.5       81.36           81.36      13.58   \n",
       "4     Ambanja -13.6833     48.45       78.73           78.73       3.27   \n",
       "\n",
       "  cloudiness humidity  \n",
       "0          0       89  \n",
       "1          7       95  \n",
       "2         47       35  \n",
       "3        100       36  \n",
       "4          2       59  "
      ]
     },
     "execution_count": 236,
     "metadata": {},
     "output_type": "execute_result"
    }
   ],
   "source": [
    "city_dict = {\n",
    "    'city': name,\n",
    "    'latitude':lat,\n",
    "    'longitude':lon,\n",
    "    'temperature':temp,\n",
    "    'max temperature':max_temp,\n",
    "    'wind speed':wind_spd,\n",
    "    'cloudiness':clouds,\n",
    "    'humidity':humidity\n",
    "}\n",
    "\n",
    "original_city_df = pd.DataFrame(city_dict)\n",
    "original_city_df.head()"
   ]
  },
  {
   "cell_type": "code",
   "execution_count": 264,
   "metadata": {},
   "outputs": [
    {
     "data": {
      "text/plain": [
       "city               574\n",
       "latitude           574\n",
       "longitude          574\n",
       "temperature        574\n",
       "max temperature    574\n",
       "wind speed         574\n",
       "cloudiness         574\n",
       "humidity           574\n",
       "dtype: int64"
      ]
     },
     "execution_count": 264,
     "metadata": {},
     "output_type": "execute_result"
    }
   ],
   "source": [
    "city_df = original_city_df.loc[original_city_df['latitude'] != 'Missing data']\n",
    "city_df.count()"
   ]
  },
  {
   "cell_type": "code",
   "execution_count": 146,
   "metadata": {},
   "outputs": [],
   "source": [
    "city_df.to_csv('../cities.csv')"
   ]
  },
  {
   "cell_type": "markdown",
   "metadata": {},
   "source": [
    "## Inspect the data and remove the cities where the humidity > 100%.\n",
    "----\n",
    "Skip this step if there are no cities that have humidity > 100%. "
   ]
  },
  {
   "cell_type": "code",
   "execution_count": 265,
   "metadata": {},
   "outputs": [
    {
     "data": {
      "text/plain": [
       "city               0\n",
       "latitude           0\n",
       "longitude          0\n",
       "temperature        0\n",
       "max temperature    0\n",
       "wind speed         0\n",
       "cloudiness         0\n",
       "humidity           0\n",
       "dtype: int64"
      ]
     },
     "execution_count": 265,
     "metadata": {},
     "output_type": "execute_result"
    }
   ],
   "source": [
    "humid = city_df.loc[city_df['humidity'] > 100]\n",
    "humid.count()"
   ]
  },
  {
   "cell_type": "code",
   "execution_count": null,
   "metadata": {},
   "outputs": [],
   "source": [
    "#  Get the indices of cities that have humidity over 100%.\n"
   ]
  },
  {
   "cell_type": "code",
   "execution_count": null,
   "metadata": {},
   "outputs": [],
   "source": [
    "# Make a new DataFrame equal to the city data to drop all humidity outliers by index.\n",
    "# Passing \"inplace=False\" will make a copy of the city_data DataFrame, which we call \"clean_city_data\".\n"
   ]
  },
  {
   "cell_type": "code",
   "execution_count": 269,
   "metadata": {},
   "outputs": [
    {
     "name": "stderr",
     "output_type": "stream",
     "text": [
      "<ipython-input-269-8720d668a0fb>:1: SettingWithCopyWarning: \n",
      "A value is trying to be set on a copy of a slice from a DataFrame.\n",
      "Try using .loc[row_indexer,col_indexer] = value instead\n",
      "\n",
      "See the caveats in the documentation: https://pandas.pydata.org/pandas-docs/stable/user_guide/indexing.html#returning-a-view-versus-a-copy\n",
      "  city_df['latitude']=city_df['latitude'].astype(float)\n",
      "<ipython-input-269-8720d668a0fb>:2: SettingWithCopyWarning: \n",
      "A value is trying to be set on a copy of a slice from a DataFrame.\n",
      "Try using .loc[row_indexer,col_indexer] = value instead\n",
      "\n",
      "See the caveats in the documentation: https://pandas.pydata.org/pandas-docs/stable/user_guide/indexing.html#returning-a-view-versus-a-copy\n",
      "  city_df['longitude']=city_df['longitude'].astype(float)\n",
      "<ipython-input-269-8720d668a0fb>:3: SettingWithCopyWarning: \n",
      "A value is trying to be set on a copy of a slice from a DataFrame.\n",
      "Try using .loc[row_indexer,col_indexer] = value instead\n",
      "\n",
      "See the caveats in the documentation: https://pandas.pydata.org/pandas-docs/stable/user_guide/indexing.html#returning-a-view-versus-a-copy\n",
      "  city_df['temperature']=city_df['temperature'].astype(float)\n",
      "<ipython-input-269-8720d668a0fb>:4: SettingWithCopyWarning: \n",
      "A value is trying to be set on a copy of a slice from a DataFrame.\n",
      "Try using .loc[row_indexer,col_indexer] = value instead\n",
      "\n",
      "See the caveats in the documentation: https://pandas.pydata.org/pandas-docs/stable/user_guide/indexing.html#returning-a-view-versus-a-copy\n",
      "  city_df['max temperature']=city_df['max temperature'].astype(float)\n",
      "<ipython-input-269-8720d668a0fb>:5: SettingWithCopyWarning: \n",
      "A value is trying to be set on a copy of a slice from a DataFrame.\n",
      "Try using .loc[row_indexer,col_indexer] = value instead\n",
      "\n",
      "See the caveats in the documentation: https://pandas.pydata.org/pandas-docs/stable/user_guide/indexing.html#returning-a-view-versus-a-copy\n",
      "  city_df['wind speed']=city_df['wind speed'].astype(float)\n",
      "<ipython-input-269-8720d668a0fb>:6: SettingWithCopyWarning: \n",
      "A value is trying to be set on a copy of a slice from a DataFrame.\n",
      "Try using .loc[row_indexer,col_indexer] = value instead\n",
      "\n",
      "See the caveats in the documentation: https://pandas.pydata.org/pandas-docs/stable/user_guide/indexing.html#returning-a-view-versus-a-copy\n",
      "  city_df['cloudiness']=city_df['cloudiness'].astype(float)\n",
      "<ipython-input-269-8720d668a0fb>:7: SettingWithCopyWarning: \n",
      "A value is trying to be set on a copy of a slice from a DataFrame.\n",
      "Try using .loc[row_indexer,col_indexer] = value instead\n",
      "\n",
      "See the caveats in the documentation: https://pandas.pydata.org/pandas-docs/stable/user_guide/indexing.html#returning-a-view-versus-a-copy\n",
      "  city_df['humidity']=city_df['humidity'].astype(float)\n"
     ]
    },
    {
     "data": {
      "text/plain": [
       "city                object\n",
       "latitude           float64\n",
       "longitude          float64\n",
       "temperature        float64\n",
       "max temperature    float64\n",
       "wind speed         float64\n",
       "cloudiness         float64\n",
       "humidity           float64\n",
       "dtype: object"
      ]
     },
     "execution_count": 269,
     "metadata": {},
     "output_type": "execute_result"
    }
   ],
   "source": [
    "city_df['latitude']=city_df['latitude'].astype(float)\n",
    "city_df['longitude']=city_df['longitude'].astype(float)\n",
    "city_df['temperature']=city_df['temperature'].astype(float)\n",
    "city_df['max temperature']=city_df['max temperature'].astype(float)\n",
    "city_df['wind speed']=city_df['wind speed'].astype(float)\n",
    "city_df['cloudiness']=city_df['cloudiness'].astype(float)\n",
    "city_df['humidity']=city_df['humidity'].astype(float)\n",
    "\n",
    "city_df.dtypes"
   ]
  },
  {
   "cell_type": "markdown",
   "metadata": {},
   "source": [
    "## Plotting the Data\n",
    "* Use proper labeling of the plots using plot titles (including date of analysis) and axes labels.\n",
    "* Save the plotted figures as .pngs."
   ]
  },
  {
   "cell_type": "markdown",
   "metadata": {},
   "source": [
    "## Latitude vs. Temperature Plot"
   ]
  },
  {
   "cell_type": "code",
   "execution_count": 270,
   "metadata": {},
   "outputs": [],
   "source": [
    "city_lat = city_df['latitude']\n",
    "city_temp = city_df['temperature']\n",
    "city_humidity = city_df['humidity']\n",
    "city_cloud = city_df['cloudiness']\n",
    "city_wind =city_df['wind speed']"
   ]
  },
  {
   "cell_type": "code",
   "execution_count": 271,
   "metadata": {
    "scrolled": true
   },
   "outputs": [
    {
     "data": {
      "image/png": "[encoded data removed]",
      "text/plain": [
       "<Figure size 432x288 with 1 Axes>"
      ]
     },
     "metadata": {
      "needs_background": "light"
     },
     "output_type": "display_data"
    }
   ],
   "source": [
    "plt.scatter(city_lat,city_temp)\n",
    "\n",
    "plt.title(\"City Latitude vs Temperature\")\n",
    "plt.ylabel(\"Temperature (F)\")\n",
    "plt.xlabel(\"Latitude\")\n",
    "\n",
    "plt.savefig(\"latVtemp.png\")\n",
    "plt.show()"
   ]
  },
  {
   "cell_type": "markdown",
   "metadata": {},
   "source": [
    "## Latitude vs. Humidity Plot"
   ]
  },
  {
   "cell_type": "code",
   "execution_count": 272,
   "metadata": {},
   "outputs": [
    {
     "data": {
      "image/png": "[encoded data removed]",
      "text/plain": [
       "<Figure size 432x288 with 1 Axes>"
      ]
     },
     "metadata": {
      "needs_background": "light"
     },
     "output_type": "display_data"
    }
   ],
   "source": [
    "plt.scatter(city_lat,city_humidity)\n",
    "\n",
    "plt.title(\"City Latitude vs Humidity\")\n",
    "plt.ylabel(\"Humidity (%)\")\n",
    "plt.xlabel(\"Latitude\")\n",
    "\n",
    "plt.savefig(\"latVhumidity.png\")\n",
    "plt.show()"
   ]
  },
  {
   "cell_type": "markdown",
   "metadata": {},
   "source": [
    "## Latitude vs. Cloudiness Plot"
   ]
  },
  {
   "cell_type": "code",
   "execution_count": 273,
   "metadata": {},
   "outputs": [
    {
     "data": {
      "image/png": "[encoded data removed]",
      "text/plain": [
       "<Figure size 432x288 with 1 Axes>"
      ]
     },
     "metadata": {
      "needs_background": "light"
     },
     "output_type": "display_data"
    }
   ],
   "source": [
    "plt.scatter(city_lat,city_cloud)\n",
    "\n",
    "plt.title(\"City Latitude vs Cloudiness\")\n",
    "plt.ylabel(\"Cloudiness (%)\")\n",
    "plt.xlabel(\"Latitude\")\n",
    "\n",
    "plt.savefig(\"latVclouds.png\")\n",
    "plt.show()"
   ]
  },
  {
   "cell_type": "markdown",
   "metadata": {},
   "source": [
    "## Latitude vs. Wind Speed Plot"
   ]
  },
  {
   "cell_type": "code",
   "execution_count": 293,
   "metadata": {},
   "outputs": [
    {
     "data": {
      "image/png": "[encoded data removed]",
      "text/plain": [
       "<Figure size 432x288 with 1 Axes>"
      ]
     },
     "metadata": {
      "needs_background": "light"
     },
     "output_type": "display_data"
    }
   ],
   "source": [
    "plt.scatter(city_lat,city_wind)\n",
    "\n",
    "plt.title(\"City Latitude vs Wind Speed\")\n",
    "plt.ylabel(\"Wind Speed(mph)\")\n",
    "plt.xlabel(\"Latitude\")\n",
    "\n",
    "plt.savefig(\"charts/latVwind.png\")\n",
    "plt.show()"
   ]
  },
  {
   "cell_type": "markdown",
   "metadata": {},
   "source": [
    "## Linear Regression"
   ]
  },
  {
   "cell_type": "code",
   "execution_count": 292,
   "metadata": {},
   "outputs": [],
   "source": [
    "north = city_df.loc[city_df['latitude'] >= 0]\n",
    "south = city_df.loc[city_df['latitude'] < 0]\n",
    "north_lat = north['latitude']\n",
    "north_temp = north['max temperature']\n",
    "north_hum = north['humidity']\n",
    "north_wind = north['wind speed']\n",
    "north_cloud =north['cloudiness']\n",
    "\n",
    "south_lat = south['latitude']\n",
    "south_temp = south['max temperature']\n",
    "south_hum = south['humidity']\n",
    "south_wind = south['wind speed']\n",
    "south_cloud =south['cloudiness']"
   ]
  },
  {
   "cell_type": "markdown",
   "metadata": {},
   "source": [
    "####  Northern Hemisphere - Max Temp vs. Latitude Linear Regression"
   ]
  },
  {
   "cell_type": "code",
   "execution_count": 304,
   "metadata": {},
   "outputs": [
    {
     "name": "stdout",
     "output_type": "stream",
     "text": [
      "The r-value is: 0.3136936587480372\n"
     ]
    },
    {
     "data": {
      "image/png": "[encoded data removed]",
      "text/plain": [
       "<Figure size 432x288 with 1 Axes>"
      ]
     },
     "metadata": {
      "needs_background": "light"
     },
     "output_type": "display_data"
    }
   ],
   "source": [
    "(slope, intercept, rvalue, pvalue, stderr) = stats.linregress(north_lat, north_temp)\n",
    "regress_values = north_lat * slope + intercept\n",
    "line_eq = \"y = \" + str(round(slope,2)) + \"x +\" + str(round(intercept,2))\n",
    "\n",
    "plt.scatter(north_lat, north_temp)\n",
    "plt.plot(north_lat,regress_values,\"r-\")\n",
    "\n",
    "plt.xlabel('Latitude')\n",
    "plt.ylabel('Max Temperature')\n",
    "plt.annotate(line_eq,(20,15),fontsize=15,color=\"red\")\n",
    "\n",
    "print(f\"The r-value is: {rvalue**2}\")\n",
    "plt.savefig(\"charts/north_tempVlat.png\")\n",
    "plt.show()"
   ]
  },
  {
   "cell_type": "markdown",
   "metadata": {},
   "source": [
    "####  Southern Hemisphere - Max Temp vs. Latitude Linear Regression"
   ]
  },
  {
   "cell_type": "code",
   "execution_count": 297,
   "metadata": {},
   "outputs": [
    {
     "name": "stdout",
     "output_type": "stream",
     "text": [
      "The r-value is: 0.6634915258576993\n"
     ]
    },
    {
     "data": {
      "image/png": "[encoded data removed]",
      "text/plain": [
       "<Figure size 432x288 with 1 Axes>"
      ]
     },
     "metadata": {
      "needs_background": "light"
     },
     "output_type": "display_data"
    }
   ],
   "source": [
    "(slope, intercept, rvalue, pvalue, stderr) = stats.linregress(south_lat, south_temp)\n",
    "regress_values = south_lat * slope + intercept\n",
    "line_eq = \"y = \" + str(round(slope,2)) + \"x +\" + str(round(intercept,2))\n",
    "\n",
    "plt.scatter(south_lat, south_temp)\n",
    "plt.plot(south_lat,regress_values,\"r-\")\n",
    "\n",
    "plt.xlabel('Latitude')\n",
    "plt.ylabel('Max Temperature')\n",
    "plt.annotate(line_eq,(20,15),fontsize=15,color=\"red\")\n",
    "\n",
    "print(f\"The r-value is: {rvalue**2}\")\n",
    "plt.savefig(\"charts/south_tempVlat.png\")\n",
    "plt.show()"
   ]
  },
  {
   "cell_type": "markdown",
   "metadata": {},
   "source": [
    "####  Northern Hemisphere - Humidity (%) vs. Latitude Linear Regression"
   ]
  },
  {
   "cell_type": "code",
   "execution_count": 298,
   "metadata": {},
   "outputs": [
    {
     "name": "stdout",
     "output_type": "stream",
     "text": [
      "The r-value is: 0.0017530262670836898\n"
     ]
    },
    {
     "data": {
      "image/png": "[encoded data removed]",
      "text/plain": [
       "<Figure size 432x288 with 1 Axes>"
      ]
     },
     "metadata": {
      "needs_background": "light"
     },
     "output_type": "display_data"
    }
   ],
   "source": [
    "(slope, intercept, rvalue, pvalue, stderr) = stats.linregress(north_lat, north_hum)\n",
    "regress_values = north_lat * slope + intercept\n",
    "line_eq = \"y = \" + str(round(slope,2)) + \"x +\" + str(round(intercept,2))\n",
    "\n",
    "plt.scatter(north_lat, north_hum)\n",
    "plt.plot(north_lat,regress_values,\"r-\")\n",
    "\n",
    "plt.xlabel('Latitude')\n",
    "plt.ylabel('Humidity (%)')\n",
    "plt.annotate(line_eq,(20,15),fontsize=15,color=\"red\")\n",
    "\n",
    "print(f\"The r-value is: {rvalue**2}\")\n",
    "plt.savefig(\"charts/north_humidityVlat.png\")\n",
    "plt.show()"
   ]
  },
  {
   "cell_type": "markdown",
   "metadata": {},
   "source": [
    "####  Southern Hemisphere - Humidity (%) vs. Latitude Linear Regression"
   ]
  },
  {
   "cell_type": "code",
   "execution_count": 299,
   "metadata": {},
   "outputs": [
    {
     "name": "stdout",
     "output_type": "stream",
     "text": [
      "The r-value is: 7.742375156490977e-05\n"
     ]
    },
    {
     "data": {
      "image/png": "[encoded data removed]",
      "text/plain": [
       "<Figure size 432x288 with 1 Axes>"
      ]
     },
     "metadata": {
      "needs_background": "light"
     },
     "output_type": "display_data"
    }
   ],
   "source": [
    "(slope, intercept, rvalue, pvalue, stderr) = stats.linregress(south_lat, south_hum)\n",
    "regress_values = south_lat * slope + intercept\n",
    "line_eq = \"y = \" + str(round(slope,2)) + \"x +\" + str(round(intercept,2))\n",
    "\n",
    "plt.scatter(south_lat, south_hum)\n",
    "plt.plot(south_lat,regress_values,\"r-\")\n",
    "\n",
    "plt.xlabel('Latitude')\n",
    "plt.ylabel('Humidity (%)')\n",
    "plt.annotate(line_eq,(20,15),fontsize=15,color=\"red\")\n",
    "\n",
    "print(f\"The r-value is: {rvalue**2}\")\n",
    "plt.savefig(\"charts/south_humidityVlat.png\")\n",
    "plt.show()"
   ]
  },
  {
   "cell_type": "markdown",
   "metadata": {},
   "source": [
    "####  Northern Hemisphere - Cloudiness (%) vs. Latitude Linear Regression"
   ]
  },
  {
   "cell_type": "code",
   "execution_count": 300,
   "metadata": {},
   "outputs": [
    {
     "name": "stdout",
     "output_type": "stream",
     "text": [
      "The r-value is: 6.0731695650174406e-05\n"
     ]
    },
    {
     "data": {
      "image/png": "[encoded data removed]",
      "text/plain": [
       "<Figure size 432x288 with 1 Axes>"
      ]
     },
     "metadata": {
      "needs_background": "light"
     },
     "output_type": "display_data"
    }
   ],
   "source": [
    "(slope, intercept, rvalue, pvalue, stderr) = stats.linregress(north_lat, north_cloud)\n",
    "regress_values = north_lat * slope + intercept\n",
    "line_eq = \"y = \" + str(round(slope,2)) + \"x +\" + str(round(intercept,2))\n",
    "\n",
    "plt.scatter(north_lat, north_cloud)\n",
    "plt.plot(north_lat,regress_values,\"r-\")\n",
    "\n",
    "plt.xlabel('Latitude')\n",
    "plt.ylabel('Cloudiness (%)')\n",
    "plt.annotate(line_eq,(20,15),fontsize=15,color=\"red\")\n",
    "\n",
    "print(f\"The r-value is: {rvalue**2}\")\n",
    "plt.savefig(\"charts/north_cloudVlat.png\")\n",
    "plt.show()"
   ]
  },
  {
   "cell_type": "markdown",
   "metadata": {},
   "source": [
    "####  Southern Hemisphere - Cloudiness (%) vs. Latitude Linear Regression"
   ]
  },
  {
   "cell_type": "code",
   "execution_count": 301,
   "metadata": {},
   "outputs": [
    {
     "name": "stdout",
     "output_type": "stream",
     "text": [
      "The r-value is: 0.09686777615993104\n"
     ]
    },
    {
     "data": {
      "image/png": "[encoded data removed]",
      "text/plain": [
       "<Figure size 432x288 with 1 Axes>"
      ]
     },
     "metadata": {
      "needs_background": "light"
     },
     "output_type": "display_data"
    }
   ],
   "source": [
    "(slope, intercept, rvalue, pvalue, stderr) = stats.linregress(south_lat, south_cloud)\n",
    "regress_values = south_lat * slope + intercept\n",
    "line_eq = \"y = \" + str(round(slope,2)) + \"x +\" + str(round(intercept,2))\n",
    "\n",
    "plt.scatter(south_lat, south_cloud)\n",
    "plt.plot(south_lat,regress_values,\"r-\")\n",
    "\n",
    "plt.xlabel('Latitude')\n",
    "plt.ylabel('Cloudiness (%)')\n",
    "plt.annotate(line_eq,(20,15),fontsize=15,color=\"red\")\n",
    "\n",
    "print(f\"The r-value is: {rvalue**2}\")\n",
    "plt.savefig(\"charts/south_cloudVlat.png\")\n",
    "plt.show()"
   ]
  },
  {
   "cell_type": "markdown",
   "metadata": {},
   "source": [
    "####  Northern Hemisphere - Wind Speed (mph) vs. Latitude Linear Regression"
   ]
  },
  {
   "cell_type": "code",
   "execution_count": 302,
   "metadata": {},
   "outputs": [
    {
     "name": "stdout",
     "output_type": "stream",
     "text": [
      "The r-value is: 0.0002909222966386919\n"
     ]
    },
    {
     "data": {
      "image/png": "[encoded data removed]",
      "text/plain": [
       "<Figure size 432x288 with 1 Axes>"
      ]
     },
     "metadata": {
      "needs_background": "light"
     },
     "output_type": "display_data"
    }
   ],
   "source": [
    "(slope, intercept, rvalue, pvalue, stderr) = stats.linregress(north_lat, north_wind)\n",
    "regress_values = north_lat * slope + intercept\n",
    "line_eq = \"y = \" + str(round(slope,2)) + \"x +\" + str(round(intercept,2))\n",
    "\n",
    "plt.scatter(north_lat, north_wind)\n",
    "plt.plot(north_lat,regress_values,\"r-\")\n",
    "\n",
    "plt.xlabel('Latitude')\n",
    "plt.ylabel('Wind Speed (mph)')\n",
    "plt.annotate(line_eq,(20,15),fontsize=15,color=\"red\")\n",
    "\n",
    "print(f\"The r-value is: {rvalue**2}\")\n",
    "plt.savefig(\"charts/north_windVlat.png\")\n",
    "plt.show()"
   ]
  },
  {
   "cell_type": "markdown",
   "metadata": {},
   "source": [
    "####  Southern Hemisphere - Wind Speed (mph) vs. Latitude Linear Regression"
   ]
  },
  {
   "cell_type": "code",
   "execution_count": 303,
   "metadata": {},
   "outputs": [
    {
     "name": "stdout",
     "output_type": "stream",
     "text": [
      "The r-value is: 0.024350033152939796\n"
     ]
    },
    {
     "data": {
      "image/png": "[encoded data removed]",
      "text/plain": [
       "<Figure size 432x288 with 1 Axes>"
      ]
     },
     "metadata": {
      "needs_background": "light"
     },
     "output_type": "display_data"
    }
   ],
   "source": [
    "(slope, intercept, rvalue, pvalue, stderr) = stats.linregress(south_lat, south_wind)\n",
    "regress_values = south_lat * slope + intercept\n",
    "line_eq = \"y = \" + str(round(slope,2)) + \"x +\" + str(round(intercept,2))\n",
    "\n",
    "plt.scatter(south_lat, south_wind)\n",
    "plt.plot(south_lat,regress_values,\"r-\")\n",
    "\n",
    "plt.xlabel('Latitude')\n",
    "plt.ylabel('Wind Speed (mph)')\n",
    "plt.annotate(line_eq,(20,15),fontsize=15,color=\"red\")\n",
    "\n",
    "print(f\"The r-value is: {rvalue**2}\")\n",
    "plt.savefig(\"charts/south_windVlat.png\")\n",
    "plt.show()"
   ]
  },
  {
   "cell_type": "code",
   "execution_count": null,
   "metadata": {},
   "outputs": [],
   "source": []
  }
 ],
 "metadata": {
  "anaconda-cloud": {},
  "kernel_info": {
   "name": "python3"
  },
  "kernelspec": {
   "display_name": "Python 3",
   "language": "python",
   "name": "python3"
  },
  "language_info": {
   "codemirror_mode": {
    "name": "ipython",
    "version": 3
   },
   "file_extension": ".py",
   "mimetype": "text/x-python",
   "name": "python",
   "nbconvert_exporter": "python",
   "pygments_lexer": "ipython3",
   "version": "3.8.5"
  },
  "latex_envs": {
   "LaTeX_envs_menu_present": true,
   "autoclose": false,
   "autocomplete": true,
   "bibliofile": "biblio.bib",
   "cite_by": "apalike",
   "current_citInitial": 1,
   "eqLabelWithNumbers": true,
   "eqNumInitial": 1,
   "hotkeys": {
    "equation": "Ctrl-E",
    "itemize": "Ctrl-I"
   },
   "labels_anchors": false,
   "latex_user_defs": false,
   "report_style_numbering": false,
   "user_envs_cfg": false
  },
  "nteract": {
   "version": "0.12.3"
  }
 },
 "nbformat": 4,
 "nbformat_minor": 2
}
